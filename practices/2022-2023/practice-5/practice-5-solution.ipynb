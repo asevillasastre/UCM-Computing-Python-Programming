{
 "cells": [
  {
   "cell_type": "code",
   "execution_count": 1,
   "metadata": {},
   "outputs": [],
   "source": [
    "######################\n",
    "##### PRÁCTICA 5 #####\n",
    "######################\n",
    "\n",
    "import turtle\n",
    "import math\n",
    "\n",
    "def dibuja(puntos):\n",
    "    \"\"\"Dibuja un segmento o polígono dada una secuencia de puntos en el plano\"\"\"\n",
    "    # Se coloca en la posición inicial\n",
    "    turtle.up() # levanta el lápiz\n",
    "    turtle.goto(puntos[0][0], puntos[0][1])\n",
    "    turtle.down() # baja el lápiz\n",
    "    # Rellena la figura determinada por los puntos\n",
    "    turtle.begin_fill()\n",
    "    for x, y in puntos[1:]:\n",
    "        turtle.goto(x, y)\n",
    "    turtle.end_fill()\n",
    "\n",
    "class Segmento:\n",
    "    \"\"\"Segmento orientado de recta\"\"\"\n",
    "\n",
    "    def __init__(self, inicio, final):\n",
    "        \"\"\"Segmento entre dos puntos dados en coordenadas globales\"\"\"\n",
    "        self.inicio = inicio\n",
    "        self.vector = (final[0] - inicio[0], final[1] - inicio[1])\n",
    "        self.final = final    # añadimos el atributo final por una cuestión de comodidad\n",
    "        self.dist = abs(self.final[0] - self.inicio[0])**2 + (self.final[1] - self.inicio[1]) # ídem con la distancia\n",
    "\n",
    "    def punto_relativo(self, punto_local):\n",
    "        \"\"\"Coordenadas globales de punto_local, que está expresado en\n",
    "        el sistema de coordenadas del segmento actual (self)\"\"\"\n",
    "        return (self.inicio[0] + punto_local[0]*self.vector[0] - punto_local[1]*self.vector[1],\n",
    "                self.inicio[1] + punto_local[0]*self.vector[1] + punto_local[1]*self.vector[0]) # empleamos la base {(u,-v), (v,u)}\n",
    "\n",
    "    def relativo(self, inicio, final):\n",
    "        \"\"\"Segmento entre dos puntos dados en coordenadas locales\"\"\"\n",
    "        return Segmento(self.punto_relativo(inicio), self.punto_relativo(final))\n",
    "\n",
    "def curva_koch(base, n):\n",
    "    \"\"\"Dibuja la curva de Koch de orden n con base en el segmento base\"\"\"\n",
    "    if n == 0:\n",
    "        vertices = [base.inicio, base.final]    # en el caso base pintamos el segmento resultante\n",
    "        dibuja(vertices)\n",
    "    else:\n",
    "        A, B, C, D, E = (0,0), (1/3, 0), (1/2, math.sqrt(3)/6), (2/3, 0), (1,0)   # para los demás, calculamos los 5 puntos pertinentes\n",
    "        for segm in [(A, B), (B, C), (C, D), (D, E)]:  # y los 4 segmentos que los unen\n",
    "            curva_koch(base.relativo(segm[0], segm[1]), n - 1)   # y llamamos a la función recursiva para cada uno de esos 4 segmentos\n",
    "\n",
    "def copo_koch(base, n):\n",
    "    \"\"\"Dibuja el copo de Koch con base en el segmento base y con n iteraciones\"\"\"\n",
    "    altura = math.sqrt(3) / 2 * base.vector[0]  # altura del triángulo equilátero formado por el copo\n",
    "    A, B, C = base.inicio, base.final, ((base.inicio[0] + base.final[0]) / 2, (base.inicio[1] + base.final[1]) / 2 - altura)\n",
    "    for segm in [(A, B), (B, C), (C, A)]:  # tomamos los 3 segmentos adecuados que forman un triángulo\n",
    "        curva_koch(Segmento(segm[0], segm[1]), n)  # y pintamos la curva de koch sobre ellos\n",
    "\n",
    "def alfombra_sierpinski(base, n):\n",
    "    \"\"\"Dibuja el complementario de la alfombra de Sierpinski con base en el segmento base y con n iteraciones\"\"\"\n",
    "    if n == 0:  # tal y como se indica en el enunciado, el caso base no dibuja nada y devuelve área nula\n",
    "        return 0\n",
    "    else:\n",
    "        cuadrado_central = [(1/3,1/3), (2/3,1/3), (2/3,2/3), (1/3,2/3), (1/3,1/3)]  # tomamos las coordenadas del cuadrado central\n",
    "        dibuja([base.punto_relativo(v) for v in cuadrado_central])  # lo dibujamos\n",
    "        area = base.dist/9  # sumamos su área\n",
    "        if n > 1:\n",
    "            for segmento in [((0,0), (1/3,0)), ((1/3,0), (2/3,0)), ((2/3,0), (1,0)), ((0,1/3), (1/3,1/3)), ((2/3,1/3), (1,1/3)),\n",
    "                            ((0,2/3), (1/3,2/3)), ((1/3,2/3), (2/3,2/3)), ((2/3,2/3), (1,2/3))]: # tomamos las coordenadas de las bases de todos los sub-mosáicos\n",
    "                sub_base = base.relativo(segmento[0], segmento[1]) # consideramos las bases de todos los sub-mosáicos\n",
    "                area += alfombra_sierpinski(sub_base, n-1)  # eliminamos el área de todos los sub-mosáicos\n",
    "        return area  # en el caso n=1 devolvemos el área directamente\n"
   ]
  },
  {
   "cell_type": "code",
   "execution_count": 6,
   "metadata": {},
   "outputs": [
    {
     "name": "stdout",
     "output_type": "stream",
     "text": [
      "<__main__.Segmento object at 0x0000019D01FD9180>\n"
     ]
    }
   ],
   "source": [
    "p1 = (0,0)\n",
    "p2 = (100,1)\n",
    "pM = (0,2)\n",
    "s1 = Segmento(p1, p2)\n",
    "print(s1)"
   ]
  },
  {
   "cell_type": "code",
   "execution_count": 4,
   "metadata": {},
   "outputs": [
    {
     "name": "stdout",
     "output_type": "stream",
     "text": [
      "(-2, 2)\n"
     ]
    }
   ],
   "source": [
    "s_rel = s1.punto_relativo(pM)\n",
    "print(s_rel)"
   ]
  },
  {
   "cell_type": "code",
   "execution_count": 8,
   "metadata": {},
   "outputs": [
    {
     "ename": "Terminator",
     "evalue": "",
     "output_type": "error",
     "traceback": [
      "\u001b[1;31m---------------------------------------------------------------------------\u001b[0m",
      "\u001b[1;31mTerminator\u001b[0m                                Traceback (most recent call last)",
      "Cell \u001b[1;32mIn[8], line 1\u001b[0m\n\u001b[1;32m----> 1\u001b[0m curva_koch(s1, \u001b[39m3\u001b[39;49m)\n\u001b[0;32m      2\u001b[0m turtle\u001b[39m.\u001b[39mdone()\n",
      "Cell \u001b[1;32mIn[1], line 48\u001b[0m, in \u001b[0;36mcurva_koch\u001b[1;34m(base, n)\u001b[0m\n\u001b[0;32m     46\u001b[0m A, B, C, D, E \u001b[39m=\u001b[39m (\u001b[39m0\u001b[39m,\u001b[39m0\u001b[39m), (\u001b[39m1\u001b[39m\u001b[39m/\u001b[39m\u001b[39m3\u001b[39m, \u001b[39m0\u001b[39m), (\u001b[39m1\u001b[39m\u001b[39m/\u001b[39m\u001b[39m2\u001b[39m, math\u001b[39m.\u001b[39msqrt(\u001b[39m3\u001b[39m)\u001b[39m/\u001b[39m\u001b[39m6\u001b[39m), (\u001b[39m2\u001b[39m\u001b[39m/\u001b[39m\u001b[39m3\u001b[39m, \u001b[39m0\u001b[39m), (\u001b[39m1\u001b[39m,\u001b[39m0\u001b[39m)\n\u001b[0;32m     47\u001b[0m \u001b[39mfor\u001b[39;00m segm \u001b[39min\u001b[39;00m [(A, B), (B, C), (C, D), (D, E)]:\n\u001b[1;32m---> 48\u001b[0m     curva_koch(base\u001b[39m.\u001b[39;49mrelativo(segm[\u001b[39m0\u001b[39;49m], segm[\u001b[39m1\u001b[39;49m]), n \u001b[39m-\u001b[39;49m \u001b[39m1\u001b[39;49m)\n",
      "Cell \u001b[1;32mIn[1], line 48\u001b[0m, in \u001b[0;36mcurva_koch\u001b[1;34m(base, n)\u001b[0m\n\u001b[0;32m     46\u001b[0m A, B, C, D, E \u001b[39m=\u001b[39m (\u001b[39m0\u001b[39m,\u001b[39m0\u001b[39m), (\u001b[39m1\u001b[39m\u001b[39m/\u001b[39m\u001b[39m3\u001b[39m, \u001b[39m0\u001b[39m), (\u001b[39m1\u001b[39m\u001b[39m/\u001b[39m\u001b[39m2\u001b[39m, math\u001b[39m.\u001b[39msqrt(\u001b[39m3\u001b[39m)\u001b[39m/\u001b[39m\u001b[39m6\u001b[39m), (\u001b[39m2\u001b[39m\u001b[39m/\u001b[39m\u001b[39m3\u001b[39m, \u001b[39m0\u001b[39m), (\u001b[39m1\u001b[39m,\u001b[39m0\u001b[39m)\n\u001b[0;32m     47\u001b[0m \u001b[39mfor\u001b[39;00m segm \u001b[39min\u001b[39;00m [(A, B), (B, C), (C, D), (D, E)]:\n\u001b[1;32m---> 48\u001b[0m     curva_koch(base\u001b[39m.\u001b[39;49mrelativo(segm[\u001b[39m0\u001b[39;49m], segm[\u001b[39m1\u001b[39;49m]), n \u001b[39m-\u001b[39;49m \u001b[39m1\u001b[39;49m)\n",
      "Cell \u001b[1;32mIn[1], line 48\u001b[0m, in \u001b[0;36mcurva_koch\u001b[1;34m(base, n)\u001b[0m\n\u001b[0;32m     46\u001b[0m A, B, C, D, E \u001b[39m=\u001b[39m (\u001b[39m0\u001b[39m,\u001b[39m0\u001b[39m), (\u001b[39m1\u001b[39m\u001b[39m/\u001b[39m\u001b[39m3\u001b[39m, \u001b[39m0\u001b[39m), (\u001b[39m1\u001b[39m\u001b[39m/\u001b[39m\u001b[39m2\u001b[39m, math\u001b[39m.\u001b[39msqrt(\u001b[39m3\u001b[39m)\u001b[39m/\u001b[39m\u001b[39m6\u001b[39m), (\u001b[39m2\u001b[39m\u001b[39m/\u001b[39m\u001b[39m3\u001b[39m, \u001b[39m0\u001b[39m), (\u001b[39m1\u001b[39m,\u001b[39m0\u001b[39m)\n\u001b[0;32m     47\u001b[0m \u001b[39mfor\u001b[39;00m segm \u001b[39min\u001b[39;00m [(A, B), (B, C), (C, D), (D, E)]:\n\u001b[1;32m---> 48\u001b[0m     curva_koch(base\u001b[39m.\u001b[39;49mrelativo(segm[\u001b[39m0\u001b[39;49m], segm[\u001b[39m1\u001b[39;49m]), n \u001b[39m-\u001b[39;49m \u001b[39m1\u001b[39;49m)\n",
      "Cell \u001b[1;32mIn[1], line 44\u001b[0m, in \u001b[0;36mcurva_koch\u001b[1;34m(base, n)\u001b[0m\n\u001b[0;32m     42\u001b[0m \u001b[39mif\u001b[39;00m n \u001b[39m==\u001b[39m \u001b[39m0\u001b[39m:\n\u001b[0;32m     43\u001b[0m     vertices \u001b[39m=\u001b[39m [base\u001b[39m.\u001b[39minicio, base\u001b[39m.\u001b[39mfinal]\n\u001b[1;32m---> 44\u001b[0m     dibuja(vertices)\n\u001b[0;32m     45\u001b[0m \u001b[39melse\u001b[39;00m:\n\u001b[0;32m     46\u001b[0m     A, B, C, D, E \u001b[39m=\u001b[39m (\u001b[39m0\u001b[39m,\u001b[39m0\u001b[39m), (\u001b[39m1\u001b[39m\u001b[39m/\u001b[39m\u001b[39m3\u001b[39m, \u001b[39m0\u001b[39m), (\u001b[39m1\u001b[39m\u001b[39m/\u001b[39m\u001b[39m2\u001b[39m, math\u001b[39m.\u001b[39msqrt(\u001b[39m3\u001b[39m)\u001b[39m/\u001b[39m\u001b[39m6\u001b[39m), (\u001b[39m2\u001b[39m\u001b[39m/\u001b[39m\u001b[39m3\u001b[39m, \u001b[39m0\u001b[39m), (\u001b[39m1\u001b[39m,\u001b[39m0\u001b[39m)\n",
      "Cell \u001b[1;32mIn[1], line 13\u001b[0m, in \u001b[0;36mdibuja\u001b[1;34m(puntos)\u001b[0m\n\u001b[0;32m     11\u001b[0m turtle\u001b[39m.\u001b[39mup() \u001b[39m# levanta el lápiz\u001b[39;00m\n\u001b[0;32m     12\u001b[0m turtle\u001b[39m.\u001b[39mgoto(puntos[\u001b[39m0\u001b[39m][\u001b[39m0\u001b[39m], puntos[\u001b[39m0\u001b[39m][\u001b[39m1\u001b[39m])\n\u001b[1;32m---> 13\u001b[0m turtle\u001b[39m.\u001b[39;49mdown() \u001b[39m# baja el lápiz\u001b[39;00m\n\u001b[0;32m     14\u001b[0m \u001b[39m# Rellena la figura determinada por los puntos\u001b[39;00m\n\u001b[0;32m     15\u001b[0m turtle\u001b[39m.\u001b[39mbegin_fill()\n",
      "File \u001b[1;32m<string>:5\u001b[0m, in \u001b[0;36mdown\u001b[1;34m()\u001b[0m\n",
      "\u001b[1;31mTerminator\u001b[0m: "
     ]
    }
   ],
   "source": [
    "curva_koch(s1, 3)\n",
    "turtle.done()"
   ]
  },
  {
   "cell_type": "code",
   "execution_count": 9,
   "metadata": {},
   "outputs": [],
   "source": [
    "copo_koch(Segmento((0, 0), (100, 0)), 2)\n",
    "turtle.done()"
   ]
  },
  {
   "cell_type": "code",
   "execution_count": 15,
   "metadata": {},
   "outputs": [
    {
     "name": "stdout",
     "output_type": "stream",
     "text": [
      "1.1906721536351164\n"
     ]
    }
   ],
   "source": [
    "p1 = (0,0)\n",
    "p2 = (2,0)\n",
    "s1 = Segmento(p1, p2)\n",
    "turtle.speed(0)\n",
    "a = alfombra_sierpinski(s1,3)\n",
    "turtle.mainloop()\n",
    "print(a)"
   ]
  },
  {
   "cell_type": "code",
   "execution_count": 16,
   "metadata": {},
   "outputs": [
    {
     "data": {
      "text/plain": [
       "1.1906721536351166"
      ]
     },
     "execution_count": 16,
     "metadata": {},
     "output_type": "execute_result"
    }
   ],
   "source": [
    "4*(1/9 + 8*1/9**2 + 64*1/9**3)"
   ]
  }
 ],
 "metadata": {
  "kernelspec": {
   "display_name": "Python 3",
   "language": "python",
   "name": "python3"
  },
  "language_info": {
   "codemirror_mode": {
    "name": "ipython",
    "version": 3
   },
   "file_extension": ".py",
   "mimetype": "text/x-python",
   "name": "python",
   "nbconvert_exporter": "python",
   "pygments_lexer": "ipython3",
   "version": "3.10.11"
  },
  "orig_nbformat": 4
 },
 "nbformat": 4,
 "nbformat_minor": 2
}
